{
 "cells": [
  {
   "cell_type": "code",
   "execution_count": 3,
   "id": "b359a673",
   "metadata": {},
   "outputs": [],
   "source": [
    "import os\n",
    "import subprocess\n",
    "import dask.dataframe as dd\n",
    "from dask.delayed import delayed\n",
    "import pandas as pd"
   ]
  },
  {
   "cell_type": "code",
   "execution_count": 4,
   "id": "8d1258f8",
   "metadata": {},
   "outputs": [
    {
     "data": {
      "text/plain": [
       "CompletedProcess(args='\\ngunzip -c 2024-05-01_anthem_index.json.gz |\\njq --stream -r \\'\\n  select(length == 2 and (. | .[0][-1] == \"description\" or .[0][-1] == \"location\")) |\\n  {(.[0][-1]): .[1]} |\\n  [ .description, .location ] |\\n  select(length==2) |\\n  @csv\\' >> intermediate.csv\\n', returncode=0)"
      ]
     },
     "execution_count": 4,
     "metadata": {},
     "output_type": "execute_result"
    }
   ],
   "source": [
    "### JSON Parsing to convert Nested JSON into a structured format\n",
    "\n",
    "\n",
    "#### ------------- This cell will take around 10 min to run ------------- ####\n",
    "\n",
    "# JQ command to transform JSON to CSV\n",
    "jq_command = \"\"\"\n",
    "gunzip -c 2024-05-01_anthem_index.json.gz |\n",
    "jq --stream -r '\n",
    "  select(length == 2 and (. | .[0][-1] == \"description\" or .[0][-1] == \"location\")) |\n",
    "  {(.[0][-1]): .[1]} |\n",
    "  [ .description, .location ] |\n",
    "  select(length==2) |\n",
    "  @csv' >> intermediate.csv\n",
    "\"\"\"\n",
    "# Execute the JQ command\n",
    "subprocess.run(jq_command, shell=True, check=True)"
   ]
  },
  {
   "cell_type": "code",
   "execution_count": 5,
   "id": "de96d1d4",
   "metadata": {},
   "outputs": [],
   "source": [
    "#### ------------ This cell will take around 3 min to run ---------------- #####\n",
    "\n",
    "\n",
    "# Define the path to the generated CSV file\n",
    "file_path = 'intermediate.csv'\n",
    "\n",
    "# Check if the file exists\n",
    "if os.path.exists(file_path):\n",
    "    \n",
    "    # Read the CSV file using Dask\n",
    "    df = dd.read_csv(file_path, header=None, names=[\"Description\", \"Location\"])\n",
    "    \n",
    "    # Shift the 'Location' column one row up\n",
    "    df['ShiftedLocation'] = df['Location'].shift(-1)\n",
    "\n",
    "    # Replace 'Location' with 'ShiftedLocation'\n",
    "    df = df.drop('Location', axis=1).rename(columns={'ShiftedLocation': 'Location'})\n",
    "\n",
    "    # Drop rows with missing values\n",
    "    df = df.dropna()\n",
    "\n",
    "    # Filter rows based on conditions\n",
    "    df = df[df['Description'].str.lower().str.contains('new york') & df['Description'].str.lower().str.contains('ppo')]\n",
    "\n",
    "    # Compute the result to trigger computation\n",
    "    result = df.compute()\n",
    "\n",
    "    # Save the result to a CSV file\n",
    "    result.to_csv('Anthem_NY_PPO.csv', index=False)\n",
    "    \n",
    "    os.remove(file_path)\n",
    "\n",
    "else:\n",
    "    print(\"File does not exist. Please check the jq command for errors.\")"
   ]
  },
  {
   "cell_type": "code",
   "execution_count": null,
   "id": "fba7d099",
   "metadata": {},
   "outputs": [],
   "source": []
  }
 ],
 "metadata": {
  "kernelspec": {
   "display_name": "Python 3 (ipykernel)",
   "language": "python",
   "name": "python3"
  },
  "language_info": {
   "codemirror_mode": {
    "name": "ipython",
    "version": 3
   },
   "file_extension": ".py",
   "mimetype": "text/x-python",
   "name": "python",
   "nbconvert_exporter": "python",
   "pygments_lexer": "ipython3",
   "version": "3.11.5"
  }
 },
 "nbformat": 4,
 "nbformat_minor": 5
}
